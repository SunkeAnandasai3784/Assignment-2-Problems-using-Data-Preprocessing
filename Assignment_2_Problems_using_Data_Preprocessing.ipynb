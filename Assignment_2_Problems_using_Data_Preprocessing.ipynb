{
  "cells": [
    {
      "cell_type": "code",
      "execution_count": 1,
      "metadata": {
        "colab": {
          "base_uri": "https://localhost:8080/"
        },
        "id": "iw2f49MhACbk",
        "outputId": "71f4cba0-4bb8-4c89-f1b7-56e4d70e9dee"
      },
      "outputs": [
        {
          "name": "stdout",
          "output_type": "stream",
          "text": [
            "Accuracy: 0.9886666666666667\n"
          ]
        }
      ],
      "source": [
        "# Import necessary libraries\n",
        "import pandas as pd\n",
        "from sklearn.preprocessing import LabelEncoder, StandardScaler\n",
        "from sklearn.model_selection import train_test_split\n",
        "from sklearn.ensemble import RandomForestClassifier\n",
        "from sklearn.metrics import accuracy_score\n",
        "\n",
        "# Load the dataset\n",
        "df = pd.read_csv('https://raw.githubusercontent.com/tranghth-lux/data-science-complete-tutorial/master/Data/HR_comma_sep.csv.txt')\n",
        "\n",
        "# Preprocessing the data\n",
        "# Encode categorical columns using LabelEncoder\n",
        "le = LabelEncoder()\n",
        "df['sales'] = le.fit_transform(df['sales'])\n",
        "df['salary'] = le.fit_transform(df['salary'])\n",
        "\n",
        "# Scale numerical columns using StandardScaler\n",
        "scaler = StandardScaler()\n",
        "df[['satisfaction_level', 'last_evaluation', 'average_montly_hours', 'time_spend_company']] = scaler.fit_transform(df[['satisfaction_level', 'last_evaluation', 'average_montly_hours', 'time_spend_company']])\n",
        "\n",
        "# Split the data into train and test sets\n",
        "X_train, X_test, y_train, y_test = train_test_split(df.drop('left', axis=1), df['left'], test_size=0.2, random_state=42)\n",
        "\n",
        "# Build the model\n",
        "rfc = RandomForestClassifier(n_estimators=100)\n",
        "rfc.fit(X_train, y_train)\n",
        "\n",
        "# Make predictions on test set\n",
        "y_pred = rfc.predict(X_test)\n",
        "\n",
        "# Evaluate the model performance\n",
        "accuracy = accuracy_score(y_test, y_pred)\n",
        "print('Accuracy:', accuracy)\n"
      ]
    },
    {
      "cell_type": "code",
      "execution_count": 2,
      "metadata": {
        "colab": {
          "base_uri": "https://localhost:8080/"
        },
        "id": "rswxNInvAkAQ",
        "outputId": "01bdc83f-066b-4130-c814-701f31013cce"
      },
      "outputs": [],
      "source": [
        "# Import necessary libraries\n",
        "import pandas as pd\n",
        "from sklearn.linear_model import LinearRegression\n",
        "from sklearn.model_selection import train_test_split\n",
        "\n",
        "# Load the dataset\n",
        "df = pd.read_csv('https://drive.google.com/u/0/uc?id=1mSkKEe0SUJ7AZHiubxKSke7HWf75JA_Z&export=download')\n",
        "\n",
        "# Drop unnecessary columns\n",
        "df = df.drop(['OGC', 'DC', 'UC', 'JF', 'EI', 'YT'], axis=1)\n",
        "\n",
        "# Convert categorical columns to numerical using one-hot encoding\n",
        "df = pd.get_dummies(df, columns=['OG', 'Dept', 'Union', 'Job'])\n",
        "\n",
        "# Split the data into train and test sets\n",
        "X_train, X_test, y_train, y_test = train_test_split(df.drop('Total_Compensation', axis=1), df['Total_Compensation'], test_size=0.2, random_state=42)\n",
        "\n",
        "# Build the model\n",
        "lr = LinearRegression()\n",
        "lr.fit(X_train, y_train)\n",
        "\n",
        "# Make predictions on test set\n",
        "y_pred = lr.predict(X_test)\n",
        "\n",
        "# Add predicted 'Total Compensation' column to the test set\n",
        "X_test['Total_Compensation_Predicted'] = y_pred\n",
        "\n",
        "# Display the test set with predicted 'Total Compensation' column\n",
        "print(X_test[['Salaries', 'Overtime', 'H/D', 'Total_Compensation_Predicted']].head(10))\n"
      ]
    }
  ],
  "metadata": {
    "colab": {
      "provenance": []
    },
    "kernelspec": {
      "display_name": "Python 3",
      "name": "python3"
    },
    "language_info": {
      "codemirror_mode": {
        "name": "ipython",
        "version": 3
      },
      "file_extension": ".py",
      "mimetype": "text/x-python",
      "name": "python",
      "nbconvert_exporter": "python",
      "pygments_lexer": "ipython3",
      "version": "3.10.6"
    }
  },
  "nbformat": 4,
  "nbformat_minor": 0
}
